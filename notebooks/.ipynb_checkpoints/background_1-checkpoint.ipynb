{
 "cells": [
  {
   "cell_type": "markdown",
   "metadata": {},
   "source": [
    "# background tasks in python\n",
    "\n",
    "I have tried most of the different methods in the past and found that copying and pasting the [threadpoolexecutor example](https://docs.python.org/3/library/concurrent.futures.html#threadpoolexecutor-example) or the [processpoolexecutor example](https://docs.python.org/3/library/concurrent.futures.html#processpoolexecutor-example) from the standard library documentation to be the most reliable.  Since this is often something that I stuff in the back of a utility module of a library it is not something that I write often enough to be familiar with, which makes it both hard to write and hard to read and debug.  If you are looking for a good overview of the difference concurrency [Raymond Hettinger](https://twitter.com/raymondh) has a great talk about the difference between the various different methods, when to use them and why.\n",
    "\n",
    "Recently a new python library was released to make running tasks in the background very simple. The [background](https://github.com/kennethreitz/background) project by Kenneth Reitz is a high level implementation of python 3's ThreadPoolExecutor.  I have been playing around with this project over the last week and I will say that this is definitely the simplest way to run background tasks in python by far.  It really simplifes the syntax and lets me focus on my job rather than implementing custom concurrent code that is more difficult to debug."
   ]
  },
  {
   "cell_type": "markdown",
   "metadata": {},
   "source": [
    "## Background\n",
    "\n",
    "I have pulled the latest version of the project in Sept 2017.  I found that it had some updates that were important to pass \\*args and \\*\\*kwargs compared to the pypi version."
   ]
  },
  {
   "cell_type": "code",
   "execution_count": 1,
   "metadata": {},
   "outputs": [
    {
     "name": "stdout",
     "output_type": "stream",
     "text": [
      "2017-09-16 \n",
      "\n",
      "CPython 3.6.2\n",
      "IPython 6.1.0\n",
      "\n",
      "background n\u0007\n"
     ]
    }
   ],
   "source": [
    "import time\n",
    "import background as bg\n",
    "\n",
    "%load_ext watermark\n",
    "%watermark -d -v -p background"
   ]
  },
  {
   "cell_type": "markdown",
   "metadata": {},
   "source": [
    "## Define Worker Functions\n",
    "\n",
    "Each of these worker functions takes 1s to run, simulating a moderately long calculation that we need to do many times over."
   ]
  },
  {
   "cell_type": "code",
   "execution_count": 2,
   "metadata": {
    "collapsed": true
   },
   "outputs": [],
   "source": [
    "def work():\n",
    "    time.sleep(1)\n",
    "    return 1\n",
    "\n",
    "@bg.task\n",
    "def bg_work():\n",
    "    time.sleep(1)\n",
    "    return 1"
   ]
  },
  {
   "cell_type": "markdown",
   "metadata": {},
   "source": [
    "## Run the Worker Functions"
   ]
  },
  {
   "cell_type": "markdown",
   "metadata": {},
   "source": [
    "## Blocking function\n",
    "\n",
    "This function is blocking each time the function runs, thus taking 1 second to run for each calculation.  The example below took exactly **100 s** to run 100 calculations.  Depending on your use case this may not be fast enough.  If the calculations do not rely on the global state"
   ]
  },
  {
   "cell_type": "code",
   "execution_count": 3,
   "metadata": {},
   "outputs": [
    {
     "name": "stdout",
     "output_type": "stream",
     "text": [
      "Wall time: 1min 40s\n"
     ]
    }
   ],
   "source": [
    "%%time\n",
    "for _ in range(100):\n",
    "    work()"
   ]
  },
  {
   "cell_type": "markdown",
   "metadata": {},
   "source": [
    "### Reaction\n",
    "\n",
    "I  know what half of you are saying to yourselfs..\n",
    "```\n",
    "    !!What!! that took 100 s, by now my users have already sent a dozen messages and filed an issue that my feature is down\n",
    "```\n",
    "\n",
    "To you I say... hold on there is a fix for this\n",
    "\n",
    "and the other half\n",
    "\n",
    "```\n",
    "Seriously that wasnt even enough time to grab a coffee.  Any real time consuming analysis takes at least 3 dats 14 hours 159 seconds before I start to care about concurrency\n",
    "```\n",
    "\n",
    "To you I say... I am impatient and I got other things to do rather than wait on this maching to finish its work."
   ]
  },
  {
   "cell_type": "markdown",
   "metadata": {},
   "source": [
    "## Background Function\n",
    "\n",
    "This function spins off worker processes and runs much faster.  By default background sets the number of processes to the number of cpu cores available, Therefore this function should run in n/4 + (inefficiency).  Here we see that the result is just over 3s.\n",
    "\n",
    "Note:_Since there is a bit of inefficiency added by needing to handle all of the threads it is not exactly divided by the number of workers._"
   ]
  },
  {
   "cell_type": "code",
   "execution_count": 4,
   "metadata": {},
   "outputs": [
    {
     "name": "stdout",
     "output_type": "stream",
     "text": [
      "Wall time: 13.1 s\n"
     ]
    }
   ],
   "source": [
    "%%time\n",
    "f_list = [bg_work() for _ in range(100)];\n",
    "\n",
    "while not all([f.done() for f in f_list]):\n",
    "    pass"
   ]
  },
  {
   "cell_type": "markdown",
   "metadata": {},
   "source": [
    "### Reaction\n",
    "\n",
    "I know what your saying this time.\n",
    "```\n",
    "really a 7x improvement...  Is that really even woth the extra work.  \n",
    "```\n",
    "\n",
    "Fine then lets crank it up to 11!"
   ]
  },
  {
   "cell_type": "markdown",
   "metadata": {},
   "source": [
    "### Lots of Background\n",
    "\n",
    "lets set the number of background processes to a value just higher to than the number of workers we need to run in order to start them all simultaneously. With this simple example that is not very CPU intensive we see the result is just over the amount of time that it takes to run 1 worker. "
   ]
  },
  {
   "cell_type": "code",
   "execution_count": 5,
   "metadata": {
    "collapsed": true
   },
   "outputs": [],
   "source": [
    "bg.n = 110"
   ]
  },
  {
   "cell_type": "code",
   "execution_count": 6,
   "metadata": {},
   "outputs": [
    {
     "name": "stdout",
     "output_type": "stream",
     "text": [
      "Wall time: 1.09 s\n"
     ]
    }
   ],
   "source": [
    "%%time\n",
    "f_list = [bg_work() for _ in range(100)];\n",
    "\n",
    "while not all([f.done() for f in f_list]):\n",
    "    pass"
   ]
  },
  {
   "cell_type": "markdown",
   "metadata": {},
   "source": [
    "### Reaction\n",
    "\n",
    "```\n",
    "100x improvement by putting my calculations into a function, adding a decorator, and some checks, im in.\n",
    "```"
   ]
  },
  {
   "cell_type": "markdown",
   "metadata": {},
   "source": [
    "## On Tap\n",
    "\n",
    "This week while taking it up to 11 I was enjoying a super thick and rich cup of El Salvador Finca Rosa from Onyx Coffee Labs.  Check out their love for letting the bean speak for it self and producing a great cup."
   ]
  },
  {
   "cell_type": "markdown",
   "metadata": {},
   "source": [
    "[<img src=\"https://cdn.shopify.com/s/files/1/1707/3261/files/coffee_science.png?5305428688827820856\">](https://onyxcoffeelab.com)"
   ]
  }
 ],
 "metadata": {
  "kernelspec": {
   "display_name": "Python [conda root]",
   "language": "python",
   "name": "conda-root-py"
  },
  "language_info": {
   "codemirror_mode": {
    "name": "ipython",
    "version": 3
   },
   "file_extension": ".py",
   "mimetype": "text/x-python",
   "name": "python",
   "nbconvert_exporter": "python",
   "pygments_lexer": "ipython3",
   "version": "3.6.2"
  }
 },
 "nbformat": 4,
 "nbformat_minor": 2
}
